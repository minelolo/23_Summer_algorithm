{
 "cells": [
  {
   "cell_type": "markdown",
   "id": "34c42aef",
   "metadata": {},
   "source": [
    "1753번 최단 거리"
   ]
  },
  {
   "cell_type": "code",
   "execution_count": 1,
   "id": "63033600",
   "metadata": {},
   "outputs": [
    {
     "ename": "ValueError",
     "evalue": "not enough values to unpack (expected 2, got 0)",
     "output_type": "error",
     "traceback": [
      "\u001b[0;31m---------------------------------------------------------------------------\u001b[0m",
      "\u001b[0;31mValueError\u001b[0m                                Traceback (most recent call last)",
      "Input \u001b[0;32mIn [1]\u001b[0m, in \u001b[0;36m<cell line: 4>\u001b[0;34m()\u001b[0m\n\u001b[1;32m      1\u001b[0m \u001b[38;5;28;01mimport\u001b[39;00m \u001b[38;5;21;01msys\u001b[39;00m\n\u001b[1;32m      2\u001b[0m \u001b[38;5;28;01mfrom\u001b[39;00m \u001b[38;5;21;01mqueue\u001b[39;00m \u001b[38;5;28;01mimport\u001b[39;00m PriorityQueue\n\u001b[0;32m----> 4\u001b[0m V, E \u001b[38;5;241m=\u001b[39m \u001b[38;5;28mmap\u001b[39m(\u001b[38;5;28mint\u001b[39m, sys\u001b[38;5;241m.\u001b[39mstdin\u001b[38;5;241m.\u001b[39mreadline()\u001b[38;5;241m.\u001b[39msplit()) \u001b[38;5;66;03m# 노드개수, 에지개\u001b[39;00m\n\u001b[1;32m      5\u001b[0m K \u001b[38;5;241m=\u001b[39m \u001b[38;5;28mint\u001b[39m(\u001b[38;5;28minput\u001b[39m())      \u001b[38;5;66;03m# 시작 노드\u001b[39;00m\n\u001b[1;32m      6\u001b[0m distance \u001b[38;5;241m=\u001b[39m [sys\u001b[38;5;241m.\u001b[39mmaxsize]\u001b[38;5;241m*\u001b[39m(V\u001b[38;5;241m+\u001b[39m\u001b[38;5;241m1\u001b[39m)\n",
      "\u001b[0;31mValueError\u001b[0m: not enough values to unpack (expected 2, got 0)"
     ]
    }
   ],
   "source": [
    "import sys\n",
    "from queue import PriorityQueue\n",
    "\n",
    "V, E = map(int, sys.stdin.readline().split()) # 노드개수, 에지개\n",
    "K = int(input())      # 시작 노드\n",
    "distance = [sys.maxsize]*(V+1)\n",
    "visited = [False] * (V+1)\n",
    "myList = [[] for _ in range(V+1)]\n",
    "q = PriorityQueue()\n",
    "\n",
    "for _ in range(E):\n",
    "    u, v, w = map(int, sys.stdin.readline().split())\n",
    "    myList[u].append((v, w))\n",
    "    \n",
    "q.put((0,K))\n",
    "distance[K] = 0\n",
    "\n",
    "while q.qsize() > 0:\n",
    "    current = q.get()\n",
    "    c_v = current[1]\n",
    "    if visited[c_v]:\n",
    "        continue\n",
    "    visited[c_v] = True\n",
    "    for tmp in myList[c_v]:\n",
    "        next = tmp[0]\n",
    "        value = tmp[1]\n",
    "        if distance[next] > distance[c_v] + value:\n",
    "            distance[next] = distance[c_v] + value\n",
    "            q.put((distance[next], next))\n",
    "            \n",
    "for i in range(1, V+1):\n",
    "    if distance[i] != sys.maxsize:\n",
    "        print(distance[i])\n",
    "    else:\n",
    "        print('INF')"
   ]
  },
  {
   "cell_type": "markdown",
   "id": "41538b16",
   "metadata": {},
   "source": [
    "11657번 타임머신"
   ]
  },
  {
   "cell_type": "code",
   "execution_count": 2,
   "id": "e4d26959",
   "metadata": {},
   "outputs": [
    {
     "ename": "ValueError",
     "evalue": "not enough values to unpack (expected 2, got 0)",
     "output_type": "error",
     "traceback": [
      "\u001b[0;31m---------------------------------------------------------------------------\u001b[0m",
      "\u001b[0;31mValueError\u001b[0m                                Traceback (most recent call last)",
      "Input \u001b[0;32mIn [2]\u001b[0m, in \u001b[0;36m<cell line: 7>\u001b[0;34m()\u001b[0m\n\u001b[1;32m      4\u001b[0m \u001b[38;5;28minput\u001b[39m \u001b[38;5;241m=\u001b[39m sys\u001b[38;5;241m.\u001b[39mstdin\u001b[38;5;241m.\u001b[39mreadline\n\u001b[1;32m      6\u001b[0m \u001b[38;5;66;03m# 도시의 개수 N과 버스 노선의 개수 M 입력\u001b[39;00m\n\u001b[0;32m----> 7\u001b[0m N, M \u001b[38;5;241m=\u001b[39m \u001b[38;5;28mmap\u001b[39m(\u001b[38;5;28mint\u001b[39m, \u001b[38;5;28minput\u001b[39m()\u001b[38;5;241m.\u001b[39msplit())\n\u001b[1;32m      9\u001b[0m \u001b[38;5;66;03m# 버스 노선의 정보를 담을 리스트와 각 도시까지의 최단 거리를 담을 리스트 초기화\u001b[39;00m\n\u001b[1;32m     10\u001b[0m edges \u001b[38;5;241m=\u001b[39m []\n",
      "\u001b[0;31mValueError\u001b[0m: not enough values to unpack (expected 2, got 0)"
     ]
    }
   ],
   "source": [
    "import sys\n",
    "\n",
    "# 입력을 빠르게 받기 위해 sys.stdin.readline 사용\n",
    "input = sys.stdin.readline\n",
    "\n",
    "# 도시의 개수 N과 버스 노선의 개수 M 입력\n",
    "N, M = map(int, input().split())\n",
    "\n",
    "# 버스 노선의 정보를 담을 리스트와 각 도시까지의 최단 거리를 담을 리스트 초기화\n",
    "edges = []\n",
    "distance = [sys.maxsize] * (N + 1)\n",
    "\n",
    "# M개의 버스 노선 정보 입력 받기\n",
    "for i in range(M):\n",
    "    start, end, time = map(int, input().split())\n",
    "    edges.append((start, end, time))\n",
    "\n",
    "# 시작 도시(1)의 최단 거리를 0으로 초기화\n",
    "distance[1] = 0\n",
    "\n",
    "# N-1번의 루프를 통해 최단 거리 계산\n",
    "for _ in range(N - 1):\n",
    "    # 모든 버스 노선에 대해 확인\n",
    "    for start, end, time in edges:\n",
    "        # 조건에 맞으면 최단 거리 업데이트\n",
    "        if distance[start] != sys.maxsize and distance[end] > distance[start] + time:\n",
    "            distance[end] = distance[start] + time\n",
    "\n",
    "mCycle = False\n",
    "# 음수 사이클 확인\n",
    "for start, end, time in edges:\n",
    "    if distance[start] != sys.maxsize and distance[end] > distance[start] + time:\n",
    "        mCycle = True\n",
    "\n",
    "# 음수 사이클이 없으면 결과 출력\n",
    "if not mCycle:\n",
    "    for i in range(2, N + 1):\n",
    "        if distance[i] != sys.maxsize:\n",
    "            print(distance[i])  # 최단 거리 출력\n",
    "        else:\n",
    "            print(-1)  # 경로가 없는 경우 -1 출력\n",
    "else:\n",
    "    print(-1)  # 음수 사이클이 존재하는 경우 -1 출력"
   ]
  },
  {
   "cell_type": "markdown",
   "id": "0d362edd",
   "metadata": {},
   "source": [
    "11404번 플로이드"
   ]
  },
  {
   "cell_type": "code",
   "execution_count": 3,
   "id": "4dd55fdb",
   "metadata": {},
   "outputs": [
    {
     "ename": "ValueError",
     "evalue": "invalid literal for int() with base 10: ''",
     "output_type": "error",
     "traceback": [
      "\u001b[0;31m---------------------------------------------------------------------------\u001b[0m",
      "\u001b[0;31mValueError\u001b[0m                                Traceback (most recent call last)",
      "Input \u001b[0;32mIn [3]\u001b[0m, in \u001b[0;36m<cell line: 7>\u001b[0;34m()\u001b[0m\n\u001b[1;32m      4\u001b[0m \u001b[38;5;28minput\u001b[39m \u001b[38;5;241m=\u001b[39m sys\u001b[38;5;241m.\u001b[39mstdin\u001b[38;5;241m.\u001b[39mreadline\n\u001b[1;32m      6\u001b[0m \u001b[38;5;66;03m# 도시의 개수 N과 버스 노선의 개수 M 입력\u001b[39;00m\n\u001b[0;32m----> 7\u001b[0m N \u001b[38;5;241m=\u001b[39m \u001b[38;5;28;43mint\u001b[39;49m\u001b[43m(\u001b[49m\u001b[38;5;28;43minput\u001b[39;49m\u001b[43m(\u001b[49m\u001b[43m)\u001b[49m\u001b[43m)\u001b[49m\n\u001b[1;32m      8\u001b[0m M \u001b[38;5;241m=\u001b[39m \u001b[38;5;28mint\u001b[39m(\u001b[38;5;28minput\u001b[39m())\n\u001b[1;32m      9\u001b[0m distance \u001b[38;5;241m=\u001b[39m [[sys\u001b[38;5;241m.\u001b[39mmaxsize \u001b[38;5;28;01mfor\u001b[39;00m j \u001b[38;5;129;01min\u001b[39;00m \u001b[38;5;28mrange\u001b[39m(N\u001b[38;5;241m+\u001b[39m\u001b[38;5;241m1\u001b[39m)] \u001b[38;5;28;01mfor\u001b[39;00m i \u001b[38;5;129;01min\u001b[39;00m \u001b[38;5;28mrange\u001b[39m(N\u001b[38;5;241m+\u001b[39m\u001b[38;5;241m1\u001b[39m)]\n",
      "\u001b[0;31mValueError\u001b[0m: invalid literal for int() with base 10: ''"
     ]
    }
   ],
   "source": [
    "import sys\n",
    "\n",
    "# 입력을 빠르게 받기 위해 sys.stdin.readline 사용\n",
    "input = sys.stdin.readline\n",
    "\n",
    "# 도시의 개수 N과 버스 노선의 개수 M 입력\n",
    "N = int(input())\n",
    "M = int(input())\n",
    "distance = [[sys.maxsize for j in range(N+1)] for i in range(N+1)]\n",
    "\n",
    "# 자기 자신으로 가는 경로의 거리는 0으로 초기화\n",
    "for i in range(1, N+1):\n",
    "    distance[i][i] = 0\n",
    "\n",
    "# 버스 정보 입력받아 그래프에 거리 저장\n",
    "for _ in range(M):\n",
    "    s, e, w = map(int, input().split())\n",
    "    if distance[s][e] > w:  # 최소 거리를 저장\n",
    "        distance[s][e] = w\n",
    "\n",
    "# 플로이드 워셜 알고리즘 수행\n",
    "for k in range(1, N + 1):\n",
    "    for i in range(1, N + 1):\n",
    "        for j in range(1, N + 1):\n",
    "            # 더 작은 거리로 갱신할 수 있다면 갱신\n",
    "            if distance[i][j] > distance[i][k] + distance[k][j]:\n",
    "                distance[i][j] = distance[i][k] + distance[k][j]\n",
    "\n",
    "# 결과 출력\n",
    "for i in range(1, N + 1):\n",
    "    for j in range(1, N + 1):\n",
    "        if distance[i][j] == sys.maxsize:\n",
    "            print(0, end=' ')\n",
    "        else:\n",
    "            print(distance[i][j], end=' ')\n",
    "    print()  # 줄 바꿈"
   ]
  },
  {
   "cell_type": "markdown",
   "id": "4fe54239",
   "metadata": {},
   "source": [
    "1197번 최소 스패닝 트리"
   ]
  },
  {
   "cell_type": "code",
   "execution_count": 6,
   "id": "fe010864",
   "metadata": {},
   "outputs": [
    {
     "ename": "ValueError",
     "evalue": "invalid literal for int() with base 10: ''",
     "output_type": "error",
     "traceback": [
      "\u001b[0;31m---------------------------------------------------------------------------\u001b[0m",
      "\u001b[0;31mValueError\u001b[0m                                Traceback (most recent call last)",
      "Input \u001b[0;32mIn [6]\u001b[0m, in \u001b[0;36m<cell line: 7>\u001b[0;34m()\u001b[0m\n\u001b[1;32m      4\u001b[0m \u001b[38;5;28minput\u001b[39m \u001b[38;5;241m=\u001b[39m sys\u001b[38;5;241m.\u001b[39mstdin\u001b[38;5;241m.\u001b[39mreadline\n\u001b[1;32m      6\u001b[0m \u001b[38;5;66;03m# 도시의 개수 N과 버스 노선의 개수 M 입력\u001b[39;00m\n\u001b[0;32m----> 7\u001b[0m N \u001b[38;5;241m=\u001b[39m \u001b[38;5;28;43mint\u001b[39;49m\u001b[43m(\u001b[49m\u001b[38;5;28;43minput\u001b[39;49m\u001b[43m(\u001b[49m\u001b[43m)\u001b[49m\u001b[43m)\u001b[49m\n\u001b[1;32m      8\u001b[0m M \u001b[38;5;241m=\u001b[39m \u001b[38;5;28mint\u001b[39m(\u001b[38;5;28minput\u001b[39m())\n\u001b[1;32m      9\u001b[0m distance \u001b[38;5;241m=\u001b[39m [[sys\u001b[38;5;241m.\u001b[39mmaxsize \u001b[38;5;28;01mfor\u001b[39;00m j \u001b[38;5;129;01min\u001b[39;00m \u001b[38;5;28mrange\u001b[39m(N\u001b[38;5;241m+\u001b[39m\u001b[38;5;241m1\u001b[39m)] \u001b[38;5;28;01mfor\u001b[39;00m i \u001b[38;5;129;01min\u001b[39;00m \u001b[38;5;28mrange\u001b[39m(N\u001b[38;5;241m+\u001b[39m\u001b[38;5;241m1\u001b[39m)]\n",
      "\u001b[0;31mValueError\u001b[0m: invalid literal for int() with base 10: ''"
     ]
    }
   ],
   "source": [
    "\n",
    "    import sys\n",
    "    \n",
    "    # 입력을 빠르게 받기 위해 sys.stdin.readline 사용\n",
    "    input = sys.stdin.readline\n",
    "    \n",
    "    # 도시의 개수 N과 버스 노선의 개수 M 입력\n",
    "    N = int(input())\n",
    "    M = int(input())\n",
    "    distance = [[sys.maxsize for j in range(N+1)] for i in range(N+1)]\n",
    "    \n",
    "    # 자기 자신으로 가는 경로의 거리는 0으로 초기화\n",
    "    for i in range(1, N+1):\n",
    "        distance[i][i] = 0\n",
    "    \n",
    "    # 버스 정보 입력받아 그래프에 거리 저장\n",
    "    for _ in range(M):\n",
    "        s, e, w = map(int, input().split())\n",
    "        if distance[s][e] > w:  # 최소 거리를 저장\n",
    "            distance[s][e] = w\n",
    "    \n",
    "    # 플로이드 워셜 알고리즘 수행\n",
    "    for k in range(1, N + 1):\n",
    "        for i in range(1, N + 1):\n",
    "            for j in range(1, N + 1):\n",
    "                # 더 작은 거리로 갱신할 수 있다면 갱신\n",
    "                if distance[i][j] > distance[i][k] + distance[k][j]:\n",
    "                    distance[i][j] = distance[i][k] + distance[k][j]\n",
    "    \n",
    "    # 결과 출력\n",
    "    for i in range(1, N + 1):\n",
    "        for j in range(1, N + 1):\n",
    "            if distance[i][j] == sys.maxsize:\n",
    "                print(0, end=' ')\n",
    "            else:\n",
    "                print(distance[i][j], end=' ')\n",
    "        print()  # 줄 바꿈"
   ]
  },
  {
   "cell_type": "code",
   "execution_count": null,
   "id": "090769eb",
   "metadata": {},
   "outputs": [],
   "source": []
  }
 ],
 "metadata": {
  "kernelspec": {
   "display_name": "Python 3 (ipykernel)",
   "language": "python",
   "name": "python3"
  },
  "language_info": {
   "codemirror_mode": {
    "name": "ipython",
    "version": 3
   },
   "file_extension": ".py",
   "mimetype": "text/x-python",
   "name": "python",
   "nbconvert_exporter": "python",
   "pygments_lexer": "ipython3",
   "version": "3.10.6"
  }
 },
 "nbformat": 4,
 "nbformat_minor": 5
}
